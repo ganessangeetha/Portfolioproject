{
 "cells": [
  {
   "cell_type": "code",
   "execution_count": 1,
   "metadata": {},
   "outputs": [],
   "source": [
    "import os\n",
    "from collections import defaultdict\n",
    "import pandas as pd\n",
    "import numpy as np\n",
    "import matplotlib.pyplot as plt\n",
    "import time \n",
    "%matplotlib inline\n",
    "from sklearn.metrics import confusion_matrix, multilabel_confusion_matrix,accuracy_score,precision_score,recall_score,f1_score\n",
    "from sklearn.metrics import plot_confusion_matrix, classification_report\n",
    "\n",
    "import warnings\n",
    "warnings.filterwarnings('ignore')"
   ]
  },
  {
   "cell_type": "code",
   "execution_count": 2,
   "metadata": {},
   "outputs": [
    {
     "name": "stdout",
     "output_type": "stream",
     "text": [
      "Requirement already satisfied: wget in c:\\users\\prime\\anaconda3\\lib\\site-packages (3.2)\n",
      "100% [..............................................................] 500 / 500"
     ]
    }
   ],
   "source": [
    "!pip install wget\n",
    "import wget\n",
    "    \n",
    "link_to_data = 'https://raw.githubusercontent.com/SIT719/2020-S2/master/data/Week_5_NSL-KDD-Dataset/training_attack_types.txt?raw=true'\n",
    "DataSet = wget.download(link_to_data) "
   ]
  },
  {
   "cell_type": "code",
   "execution_count": 3,
   "metadata": {},
   "outputs": [
    {
     "data": {
      "text/plain": [
       "'training_attack_types (36).txt'"
      ]
     },
     "execution_count": 3,
     "metadata": {},
     "output_type": "execute_result"
    }
   ],
   "source": [
    "DataSet"
   ]
  },
  {
   "cell_type": "code",
   "execution_count": 4,
   "metadata": {},
   "outputs": [],
   "source": [
    "header_names = ['duration', 'protocol_type', 'service', 'flag', 'src_bytes', \n",
    "                'dst_bytes', 'land', 'wrong_fragment', 'urgent', 'hot', 'num_failed_logins', \n",
    "                'logged_in', 'num_compromised', 'root_shell', 'su_attempted', 'num_root', \n",
    "                'num_file_creations', 'num_shells', 'num_access_files', 'num_outbound_cmds', \n",
    "                'is_host_login', 'is_guest_login', 'count', 'srv_count', 'serror_rate', 'srv_serror_rate',\n",
    "                'rerror_rate', 'srv_rerror_rate', 'same_srv_rate', 'diff_srv_rate', 'srv_diff_host_rate', \n",
    "                'dst_host_count', 'dst_host_srv_count', 'dst_host_same_srv_rate', 'dst_host_diff_srv_rate', \n",
    "                'dst_host_same_src_port_rate', \n",
    "                'dst_host_srv_diff_host_rate', 'dst_host_serror_rate', 'dst_host_srv_serror_rate', \n",
    "                'dst_host_rerror_rate', 'dst_host_srv_rerror_rate', 'attack_type', 'success_pred']\n",
    "\n",
    "\n",
    "# Differentiating between nominal, binary, and numeric features\n",
    "\n",
    "# root_shell is marked as a continuous feature in the kddcup.names \n",
    "# file, but it is supposed to be a binary feature according to the \n",
    "# dataset documentation\n",
    "\n",
    "# training_attack_types.txt maps each of the 22 different attacks to 1 of 4 categories\n",
    "# file obtained from http://kdd.ics.uci.edu/databases/kddcup99/training_attack_types\n",
    "\n",
    "col_names = np.array(header_names)\n",
    "\n",
    "nominal_idx = [1, 2, 3]\n",
    "binary_idx = [6, 11, 13, 14, 20, 21]\n",
    "numeric_idx = list(set(range(41)).difference(nominal_idx).difference(binary_idx))\n",
    "\n",
    "nominal_cols = col_names[nominal_idx].tolist()\n",
    "binary_cols = col_names[binary_idx].tolist()\n",
    "numeric_cols = col_names[numeric_idx].tolist()"
   ]
  },
  {
   "cell_type": "code",
   "execution_count": 5,
   "metadata": {},
   "outputs": [],
   "source": [
    "# training_attack_types.txt maps each of the 22 different attacks to 1 of 4 categories\n",
    "# file obtained from http://kdd.ics.uci.edu/databases/kddcup99/training_attack_types\n",
    "\n",
    "category = defaultdict(list)\n",
    "category['benign'].append('normal')\n",
    "\n",
    "with open(DataSet, 'r') as f:\n",
    "    for line in f.readlines():\n",
    "        attack, cat = line.strip().split(' ')\n",
    "        category[cat].append(attack)\n",
    "\n",
    "attack_mapping = dict((v,k) for k in category for v in category[k])"
   ]
  },
  {
   "cell_type": "code",
   "execution_count": 6,
   "metadata": {},
   "outputs": [
    {
     "data": {
      "text/plain": [
       "{'normal': 'benign',\n",
       " 'apache2': 'dos',\n",
       " 'back': 'dos',\n",
       " 'mailbomb': 'dos',\n",
       " 'processtable': 'dos',\n",
       " 'snmpgetattack': 'dos',\n",
       " 'teardrop': 'dos',\n",
       " 'smurf': 'dos',\n",
       " 'land': 'dos',\n",
       " 'neptune': 'dos',\n",
       " 'pod': 'dos',\n",
       " 'udpstorm': 'dos',\n",
       " 'ps': 'u2r',\n",
       " 'buffer_overflow': 'u2r',\n",
       " 'perl': 'u2r',\n",
       " 'rootkit': 'u2r',\n",
       " 'loadmodule': 'u2r',\n",
       " 'xterm': 'u2r',\n",
       " 'sqlattack': 'u2r',\n",
       " 'httptunnel': 'u2r',\n",
       " 'ftp_write': 'r2l',\n",
       " 'guess_passwd': 'r2l',\n",
       " 'snmpguess': 'r2l',\n",
       " 'imap': 'r2l',\n",
       " 'spy': 'r2l',\n",
       " 'warezclient': 'r2l',\n",
       " 'warezmaster': 'r2l',\n",
       " 'multihop': 'r2l',\n",
       " 'phf': 'r2l',\n",
       " 'named': 'r2l',\n",
       " 'sendmail': 'r2l',\n",
       " 'xlock': 'r2l',\n",
       " 'xsnoop': 'r2l',\n",
       " 'worm': 'probe',\n",
       " 'nmap': 'probe',\n",
       " 'ipsweep': 'probe',\n",
       " 'portsweep': 'probe',\n",
       " 'satan': 'probe',\n",
       " 'mscan': 'probe',\n",
       " 'saint': 'probe'}"
      ]
     },
     "execution_count": 6,
     "metadata": {},
     "output_type": "execute_result"
    }
   ],
   "source": [
    "attack_mapping"
   ]
  },
  {
   "cell_type": "code",
   "execution_count": 7,
   "metadata": {},
   "outputs": [],
   "source": [
    "#Processing Training Data\n",
    "\n",
    "train_file='https://raw.githubusercontent.com/SIT719/2020-S2/master/data/Week_5_NSL-KDD-Dataset/KDDTrain%2B.txt'\n",
    "\n",
    "train_df = pd.read_csv(train_file, names=header_names)\n",
    "train_df['attack_category'] = train_df['attack_type'] \\\n",
    "                                .map(lambda x: attack_mapping[x])\n",
    "train_df.drop(['success_pred'], axis=1, inplace=True)"
   ]
  },
  {
   "cell_type": "code",
   "execution_count": 8,
   "metadata": {},
   "outputs": [],
   "source": [
    "#Processing test Data\n",
    "test_file='https://raw.githubusercontent.com/SIT719/2020-S2/master/data/Week_5_NSL-KDD-Dataset/KDDTest%2B.txt'\n",
    "\n",
    "test_df = pd.read_csv(test_file, names=header_names)\n",
    "test_df['attack_category'] = test_df['attack_type'] \\\n",
    "                                .map(lambda x: attack_mapping[x])\n",
    "test_df.drop(['success_pred'], axis=1, inplace=True)"
   ]
  },
  {
   "cell_type": "code",
   "execution_count": 9,
   "metadata": {},
   "outputs": [
    {
     "data": {
      "image/png": "[encoded data removed]",
      "text/plain": [
       "<Figure size 1440x720 with 1 Axes>"
      ]
     },
     "metadata": {
      "needs_background": "light"
     },
     "output_type": "display_data"
    }
   ],
   "source": [
    "train_attack_types = train_df['attack_type'].value_counts()\n",
    "train_attack_cats = train_df['attack_category'].value_counts()\n",
    "\n",
    "test_attack_types = test_df['attack_type'].value_counts()\n",
    "test_attack_cats = test_df['attack_category'].value_counts()\n",
    "\n",
    "train_attack_types.plot(kind='barh', figsize=(20,10), fontsize=20)\n",
    "\n",
    "train_attack_cats.plot(kind='barh', figsize=(20,10), fontsize=30)\n",
    "\n",
    "train_df[binary_cols].describe().transpose()\n",
    "train_df.groupby(['su_attempted']).size()\n",
    "train_df['su_attempted'].replace(2, 0, inplace=True)\n",
    "test_df['su_attempted'].replace(2, 0, inplace=True)\n",
    "train_df.groupby(['su_attempted']).size()\n",
    "train_df.groupby(['num_outbound_cmds']).size()\n",
    "\n",
    "#Now, that's not a very useful feature - let's drop it from the dataset\n",
    "\n",
    "train_df.drop('num_outbound_cmds', axis = 1, inplace=True)\n",
    "test_df.drop('num_outbound_cmds', axis = 1, inplace=True)\n",
    "numeric_cols.remove('num_outbound_cmds')\n",
    "\n",
    "\n",
    "\n",
    "#Data Preparation\n",
    "\n",
    "train_Y = train_df['attack_category']\n",
    "train_x_raw = train_df.drop(['attack_category','attack_type'], axis=1)\n",
    "test_Y = test_df['attack_category']\n",
    "test_x_raw = test_df.drop(['attack_category','attack_type'], axis=1)\n",
    "\n",
    "\n",
    "combined_df_raw = pd.concat([train_x_raw, test_x_raw])\n",
    "combined_df = pd.get_dummies(combined_df_raw, columns=nominal_cols, drop_first=True)\n",
    "\n",
    "train_x = combined_df[:len(train_x_raw)]\n",
    "test_x = combined_df[len(train_x_raw):]\n",
    "\n",
    "# Store dummy variable feature names\n",
    "dummy_variables = list(set(train_x)-set(combined_df_raw))\n",
    "\n",
    "#execute the commands in console\n",
    "train_x.describe()\n",
    "train_x['duration'].describe()\n",
    "# Experimenting with StandardScaler on the single 'duration' feature\n",
    "from sklearn.preprocessing import StandardScaler\n",
    "\n",
    "durations = train_x['duration'].values.reshape(-1, 1)\n",
    "standard_scaler = StandardScaler().fit(durations)\n",
    "scaled_durations = standard_scaler.transform(durations)\n",
    "pd.Series(scaled_durations.flatten()).describe()\n",
    "\n",
    "# Experimenting with MinMaxScaler on the single 'duration' feature\n",
    "from sklearn.preprocessing import MinMaxScaler\n",
    "\n",
    "min_max_scaler = MinMaxScaler().fit(durations)\n",
    "min_max_scaled_durations = min_max_scaler.transform(durations)\n",
    "pd.Series(min_max_scaled_durations.flatten()).describe()\n",
    "\n",
    "# Experimenting with RobustScaler on the single 'duration' feature\n",
    "from sklearn.preprocessing import RobustScaler\n",
    "\n",
    "min_max_scaler = RobustScaler().fit(durations)\n",
    "robust_scaled_durations = min_max_scaler.transform(durations)\n",
    "pd.Series(robust_scaled_durations.flatten()).describe()\n",
    "\n",
    "# Experimenting with MaxAbsScaler on the single 'duration' feature\n",
    "from sklearn.preprocessing import MaxAbsScaler\n",
    "\n",
    "max_Abs_scaler = MaxAbsScaler().fit(durations)\n",
    "robust_scaled_durations = max_Abs_scaler.transform(durations)\n",
    "pd.Series(robust_scaled_durations.flatten()).describe()\n",
    "\n",
    "# Let's proceed with StandardScaler- Apply to all the numeric columns\n",
    "\n",
    "standard_scaler = StandardScaler().fit(train_x[numeric_cols])\n",
    "\n",
    "train_x[numeric_cols] = \\\n",
    "    standard_scaler.transform(train_x[numeric_cols])\n",
    "\n",
    "test_x[numeric_cols] = \\\n",
    "    standard_scaler.transform(test_x[numeric_cols])\n",
    "    \n",
    "train_x.describe()\n",
    "\n",
    "\n",
    "\n",
    "train_Y_bin = train_Y.apply(lambda x: 0 if x is 'benign' else 1)\n",
    "test_Y_bin = test_Y.apply(lambda x: 0 if x is 'benign' else 1)"
   ]
  },
  {
   "cell_type": "code",
   "execution_count": 10,
   "metadata": {},
   "outputs": [
    {
     "name": "stdout",
     "output_type": "stream",
     "text": [
      "<bound method NDFrame.head of         duration protocol_type   service flag  src_bytes  dst_bytes  land  \\\n",
      "0              0           tcp  ftp_data   SF        491          0     0   \n",
      "1              0           udp     other   SF        146          0     0   \n",
      "2              0           tcp   private   S0          0          0     0   \n",
      "3              0           tcp      http   SF        232       8153     0   \n",
      "4              0           tcp      http   SF        199        420     0   \n",
      "...          ...           ...       ...  ...        ...        ...   ...   \n",
      "125968         0           tcp   private   S0          0          0     0   \n",
      "125969         8           udp   private   SF        105        145     0   \n",
      "125970         0           tcp      smtp   SF       2231        384     0   \n",
      "125971         0           tcp    klogin   S0          0          0     0   \n",
      "125972         0           tcp  ftp_data   SF        151          0     0   \n",
      "\n",
      "        wrong_fragment  urgent  hot  ...  dst_host_same_srv_rate  \\\n",
      "0                    0       0    0  ...                    0.17   \n",
      "1                    0       0    0  ...                    0.00   \n",
      "2                    0       0    0  ...                    0.10   \n",
      "3                    0       0    0  ...                    1.00   \n",
      "4                    0       0    0  ...                    1.00   \n",
      "...                ...     ...  ...  ...                     ...   \n",
      "125968               0       0    0  ...                    0.10   \n",
      "125969               0       0    0  ...                    0.96   \n",
      "125970               0       0    0  ...                    0.12   \n",
      "125971               0       0    0  ...                    0.03   \n",
      "125972               0       0    0  ...                    0.30   \n",
      "\n",
      "        dst_host_diff_srv_rate  dst_host_same_src_port_rate  \\\n",
      "0                         0.03                         0.17   \n",
      "1                         0.60                         0.88   \n",
      "2                         0.05                         0.00   \n",
      "3                         0.00                         0.03   \n",
      "4                         0.00                         0.00   \n",
      "...                        ...                          ...   \n",
      "125968                    0.06                         0.00   \n",
      "125969                    0.01                         0.01   \n",
      "125970                    0.06                         0.00   \n",
      "125971                    0.05                         0.00   \n",
      "125972                    0.03                         0.30   \n",
      "\n",
      "        dst_host_srv_diff_host_rate  dst_host_serror_rate  \\\n",
      "0                              0.00                  0.00   \n",
      "1                              0.00                  0.00   \n",
      "2                              0.00                  1.00   \n",
      "3                              0.04                  0.03   \n",
      "4                              0.00                  0.00   \n",
      "...                             ...                   ...   \n",
      "125968                         0.00                  1.00   \n",
      "125969                         0.00                  0.00   \n",
      "125970                         0.00                  0.72   \n",
      "125971                         0.00                  1.00   \n",
      "125972                         0.00                  0.00   \n",
      "\n",
      "        dst_host_srv_serror_rate  dst_host_rerror_rate  \\\n",
      "0                           0.00                  0.05   \n",
      "1                           0.00                  0.00   \n",
      "2                           1.00                  0.00   \n",
      "3                           0.01                  0.00   \n",
      "4                           0.00                  0.00   \n",
      "...                          ...                   ...   \n",
      "125968                      1.00                  0.00   \n",
      "125969                      0.00                  0.00   \n",
      "125970                      0.00                  0.01   \n",
      "125971                      1.00                  0.00   \n",
      "125972                      0.00                  0.00   \n",
      "\n",
      "        dst_host_srv_rerror_rate  attack_type  attack_category  \n",
      "0                           0.00       normal           benign  \n",
      "1                           0.00       normal           benign  \n",
      "2                           0.00      neptune              dos  \n",
      "3                           0.01       normal           benign  \n",
      "4                           0.00       normal           benign  \n",
      "...                          ...          ...              ...  \n",
      "125968                      0.00      neptune              dos  \n",
      "125969                      0.00       normal           benign  \n",
      "125970                      0.00       normal           benign  \n",
      "125971                      0.00      neptune              dos  \n",
      "125972                      0.00       normal           benign  \n",
      "\n",
      "[125973 rows x 42 columns]>\n"
     ]
    }
   ],
   "source": [
    "#4.1 Identifing attributes name(Header)\n",
    "print(train_df.head)"
   ]
  },
  {
   "cell_type": "code",
   "execution_count": 11,
   "metadata": {},
   "outputs": [
    {
     "name": "stdout",
     "output_type": "stream",
     "text": [
      "<bound method NDFrame.head of        duration protocol_type   service  flag  src_bytes  dst_bytes  land  \\\n",
      "0             0           tcp   private   REJ          0          0     0   \n",
      "1             0           tcp   private   REJ          0          0     0   \n",
      "2             2           tcp  ftp_data    SF      12983          0     0   \n",
      "3             0          icmp     eco_i    SF         20          0     0   \n",
      "4             1           tcp    telnet  RSTO          0         15     0   \n",
      "...         ...           ...       ...   ...        ...        ...   ...   \n",
      "22539         0           tcp      smtp    SF        794        333     0   \n",
      "22540         0           tcp      http    SF        317        938     0   \n",
      "22541         0           tcp      http    SF      54540       8314     0   \n",
      "22542         0           udp  domain_u    SF         42         42     0   \n",
      "22543         0           tcp    sunrpc   REJ          0          0     0   \n",
      "\n",
      "       wrong_fragment  urgent  hot  ...  dst_host_same_srv_rate  \\\n",
      "0                   0       0    0  ...                    0.04   \n",
      "1                   0       0    0  ...                    0.00   \n",
      "2                   0       0    0  ...                    0.61   \n",
      "3                   0       0    0  ...                    1.00   \n",
      "4                   0       0    0  ...                    0.31   \n",
      "...               ...     ...  ...  ...                     ...   \n",
      "22539               0       0    0  ...                    0.72   \n",
      "22540               0       0    0  ...                    1.00   \n",
      "22541               0       0    2  ...                    1.00   \n",
      "22542               0       0    0  ...                    0.99   \n",
      "22543               0       0    0  ...                    0.08   \n",
      "\n",
      "       dst_host_diff_srv_rate  dst_host_same_src_port_rate  \\\n",
      "0                        0.06                         0.00   \n",
      "1                        0.06                         0.00   \n",
      "2                        0.04                         0.61   \n",
      "3                        0.00                         1.00   \n",
      "4                        0.17                         0.03   \n",
      "...                       ...                          ...   \n",
      "22539                    0.06                         0.01   \n",
      "22540                    0.00                         0.01   \n",
      "22541                    0.00                         0.00   \n",
      "22542                    0.01                         0.00   \n",
      "22543                    0.03                         0.00   \n",
      "\n",
      "       dst_host_srv_diff_host_rate  dst_host_serror_rate  \\\n",
      "0                             0.00                  0.00   \n",
      "1                             0.00                  0.00   \n",
      "2                             0.02                  0.00   \n",
      "3                             0.28                  0.00   \n",
      "4                             0.02                  0.00   \n",
      "...                            ...                   ...   \n",
      "22539                         0.01                  0.01   \n",
      "22540                         0.01                  0.01   \n",
      "22541                         0.00                  0.00   \n",
      "22542                         0.00                  0.00   \n",
      "22543                         0.00                  0.00   \n",
      "\n",
      "       dst_host_srv_serror_rate  dst_host_rerror_rate  \\\n",
      "0                           0.0                  1.00   \n",
      "1                           0.0                  1.00   \n",
      "2                           0.0                  0.00   \n",
      "3                           0.0                  0.00   \n",
      "4                           0.0                  0.83   \n",
      "...                         ...                   ...   \n",
      "22539                       0.0                  0.00   \n",
      "22540                       0.0                  0.00   \n",
      "22541                       0.0                  0.07   \n",
      "22542                       0.0                  0.00   \n",
      "22543                       0.0                  0.44   \n",
      "\n",
      "       dst_host_srv_rerror_rate  attack_type  attack_category  \n",
      "0                          1.00      neptune              dos  \n",
      "1                          1.00      neptune              dos  \n",
      "2                          0.00       normal           benign  \n",
      "3                          0.00        saint            probe  \n",
      "4                          0.71        mscan            probe  \n",
      "...                         ...          ...              ...  \n",
      "22539                      0.00       normal           benign  \n",
      "22540                      0.00       normal           benign  \n",
      "22541                      0.07         back              dos  \n",
      "22542                      0.00       normal           benign  \n",
      "22543                      1.00        mscan            probe  \n",
      "\n",
      "[22544 rows x 42 columns]>\n"
     ]
    }
   ],
   "source": [
    "#4.1 Identifing attributes name(Header)\n",
    "print(test_df.head)"
   ]
  },
  {
   "cell_type": "code",
   "execution_count": 12,
   "metadata": {},
   "outputs": [
    {
     "name": "stdout",
     "output_type": "stream",
     "text": [
      "125973\n"
     ]
    }
   ],
   "source": [
    "#4.2 check the length of the train dataset\n",
    "print(len(train_df))\n"
   ]
  },
  {
   "cell_type": "code",
   "execution_count": 13,
   "metadata": {},
   "outputs": [
    {
     "name": "stdout",
     "output_type": "stream",
     "text": [
      "22544\n"
     ]
    }
   ],
   "source": [
    "#4.2 check the length of the test dataset\n",
    "print(len(test_df))"
   ]
  },
  {
   "cell_type": "code",
   "execution_count": 14,
   "metadata": {},
   "outputs": [
    {
     "data": {
      "text/plain": [
       "benign    67343\n",
       "dos       45927\n",
       "probe     11656\n",
       "r2l         995\n",
       "u2r          52\n",
       "Name: attack_category, dtype: int64"
      ]
     },
     "execution_count": 14,
     "metadata": {},
     "output_type": "execute_result"
    }
   ],
   "source": [
    "#4.3 Total Number of Samples that belong to each Five classes of the Training Dataset\n",
    "train_attack_category = train_df['attack_category'].value_counts()\n",
    "train_attack_category"
   ]
  },
  {
   "cell_type": "code",
   "execution_count": 15,
   "metadata": {},
   "outputs": [
    {
     "data": {
      "text/plain": [
       "benign    9711\n",
       "dos       7636\n",
       "r2l       2574\n",
       "probe     2423\n",
       "u2r        200\n",
       "Name: attack_category, dtype: int64"
      ]
     },
     "execution_count": 15,
     "metadata": {},
     "output_type": "execute_result"
    }
   ],
   "source": [
    "#4.3 Total Number of Samples that belong to each Five classes of the Testing  Dataset\n",
    "test_attack_category = test_df['attack_category'].value_counts()\n",
    "test_attack_category"
   ]
  },
  {
   "cell_type": "code",
   "execution_count": 17,
   "metadata": {},
   "outputs": [
    {
     "name": "stdout",
     "output_type": "stream",
     "text": [
      "Fitting 3 folds for each of 6 candidates, totalling 18 fits\n"
     ]
    },
    {
     "name": "stderr",
     "output_type": "stream",
     "text": [
      "[Parallel(n_jobs=-1)]: Using backend LokyBackend with 4 concurrent workers.\n",
      "[Parallel(n_jobs=-1)]: Done  18 out of  18 | elapsed:  1.2min finished\n"
     ]
    },
    {
     "name": "stdout",
     "output_type": "stream",
     "text": [
      "{'solver': 'lbfgs', 'penalty': 'l2', 'multi_class': 'auto', 'C': 10}\n",
      "[[8986   92  627    2    4]\n",
      " [1557 6062   17    0    0]\n",
      " [ 506   93 1819    5    0]\n",
      " [2527    2    1   43    1]\n",
      " [ 182    3    0    3   12]]\n",
      "Accuracy for each class:  [0.75616572 0.92175302 0.94459723 0.88728708 0.99143896]\n",
      "Recall for each class:  [0.9253424  0.79387114 0.75072225 0.01670552 0.06      ]\n",
      "Precision for each class:  [0.65314726 0.96960972 0.73823052 0.81132075 0.70588235]\n",
      "False Postive Rate for each class: [3.71853814e-01 1.27448350e-02 3.20560608e-02 5.00751127e-04\n",
      " 2.23773720e-04]\n",
      "              precision    recall  f1-score   support\n",
      "\n",
      "      normal     0.6531    0.9253    0.7658      9711\n",
      "         dos     0.9696    0.7939    0.8730      7636\n",
      "       probe     0.7382    0.7507    0.7444      2423\n",
      "         r2l     0.8113    0.0167    0.0327      2574\n",
      "         u2r     0.7059    0.0600    0.1106       200\n",
      "\n",
      "    accuracy                         0.7506     22544\n",
      "   macro avg     0.7756    0.5093    0.5053     22544\n",
      "weighted avg     0.7880    0.7506    0.7103     22544\n",
      "\n",
      "[[[22544     0]\n",
      "  [    0     0]]\n",
      "\n",
      " [[14718   190]\n",
      "  [ 1574  6062]]\n",
      "\n",
      " [[19476   645]\n",
      "  [  604  1819]]\n",
      "\n",
      " [[19960    10]\n",
      "  [ 2531    43]]\n",
      "\n",
      " [[22339     5]\n",
      "  [  188    12]]]\n"
     ]
    },
    {
     "data": {
      "image/png": "[encoded data removed]",
      "text/plain": [
       "<Figure size 432x288 with 2 Axes>"
      ]
     },
     "metadata": {
      "needs_background": "light"
     },
     "output_type": "display_data"
    },
    {
     "name": "stdout",
     "output_type": "stream",
     "text": [
      "Accuracy Score: 0.7506210078069553\n",
      "Precision Score: 0.7880101819048121\n",
      "Recall Score: 0.7506210078069553\n",
      "F1 Score: 0.7102857037019016\n",
      "Total Duration: 103.79294943809509 Seconds\n"
     ]
    }
   ],
   "source": [
    "#6. classification algorthims\n",
    "#6.1 Logistic Regression Model\n",
    "start=time.time()\n",
    "\n",
    "from sklearn.linear_model import LogisticRegression\n",
    "from sklearn.model_selection import RandomizedSearchCV\n",
    "#fitting data\n",
    "\n",
    "\n",
    "model= LogisticRegression()\n",
    "solvers = ['lbfgs','newton_cg']\n",
    "penalty =['l2']\n",
    "c_values = [10,1,0.1]\n",
    "multi_class =['auto']\n",
    "ran_cv= dict(solver=solvers,penalty=penalty,C=c_values,multi_class=multi_class)\n",
    "clf= RandomizedSearchCV(estimator=model, param_distributions=ran_cv, n_jobs=-1, cv=3,n_iter=10,verbose=2,\n",
    "                               random_state=1)\n",
    "clf.fit(train_x,train_Y)\n",
    "\n",
    "print(clf.best_params_)\n",
    "\n",
    "best_random_cv=clf.best_estimator_\n",
    "pred_y=best_random_cv.predict(test_x)\n",
    "\n",
    "\n",
    "conf_mx=confusion_matrix(test_Y, pred_y)\n",
    "print(conf_mx)\n",
    "\n",
    "\n",
    "#Performance Measures\n",
    "FP = conf_mx.sum(axis=0) - np.diag(conf_mx) \n",
    "FN = conf_mx.sum(axis=1) - np.diag(conf_mx)\n",
    "TP = np.diag(conf_mx)\n",
    "TN = conf_mx.sum() - (FP + FN + TP)\n",
    "FP = FP.astype(float)\n",
    "FN = FN.astype(float)\n",
    "TP = TP.astype(float)\n",
    "TN = TN.astype(float)\n",
    "\n",
    "#Accuracy for each class\n",
    "ACC = (TP+TN)/(TP+FP+FN+TN)\n",
    "print('Accuracy for each class: ',ACC)\n",
    "\n",
    "#Recall\n",
    "TPR = TP/(TP+FN)\n",
    "print('Recall for each class: ',TPR)\n",
    "\n",
    "# Precision \n",
    "PPV = TP/(TP+FP)\n",
    "print('Precision for each class: ',PPV)\n",
    "\n",
    "# False positive rate\n",
    "FPR = FP/(FP+TN)\n",
    "print('False Postive Rate for each class:',FPR)\n",
    "\n",
    "#Classification Report\n",
    "target_names = [\"normal\",\"dos\",\"probe\",\"r2l\",\"u2r\"]\n",
    "print(classification_report(test_Y, pred_y,target_names=target_names,digits=4))\n",
    "\n",
    "#Multilabel confusion Matrix\n",
    "print(multilabel_confusion_matrix(test_Y, pred_y,labels=target_names))\n",
    "\n",
    "#Plot Confusion Matrix\n",
    "plot_confusion_matrix(clf, test_x, test_Y)  \n",
    "plt.show()  \n",
    "\n",
    "#Overall Performance Measures for Algorithm\n",
    "print('Accuracy Score:',accuracy_score(pred_y, test_Y))\n",
    "print('Precision Score:',precision_score(test_Y,pred_y,average='weighted'))\n",
    "print('Recall Score:',recall_score(test_Y,pred_y,average='weighted'))\n",
    "print('F1 Score:', f1_score(test_Y,pred_y,average='weighted'))\n",
    "\n",
    "\n",
    "end=time.time()\n",
    "process_time = end-start\n",
    "print('Total Duration:',process_time,'Seconds')"
   ]
  },
  {
   "cell_type": "code",
   "execution_count": 21,
   "metadata": {},
   "outputs": [
    {
     "name": "stdout",
     "output_type": "stream",
     "text": [
      "[[9374   59  275    2    1]\n",
      " [1565 6035   36    0    0]\n",
      " [ 672  174 1577    0    0]\n",
      " [2307    0    5  261    1]\n",
      " [ 180    0    0    7   13]]\n",
      "Accuracy for each class:  [0.77550568 0.91864798 0.94845635 0.89700142 0.99161639]\n",
      "Recall for each class:  [0.96529709 0.79033525 0.65084606 0.1013986  0.065     ]\n",
      "Precision for each class:  [0.66491701 0.96282706 0.8330692  0.96666667 0.86666667]\n",
      "False Postive Rate for each class: [3.68113457e-01 1.56291924e-02 1.57049848e-02 4.50676014e-04\n",
      " 8.95094880e-05]\n",
      "              precision    recall  f1-score   support\n",
      "\n",
      "      normal     0.6649    0.9653    0.7874      9711\n",
      "         dos     0.9628    0.7903    0.8681      7636\n",
      "       probe     0.8331    0.6508    0.7308      2423\n",
      "         r2l     0.9667    0.1014    0.1835      2574\n",
      "         u2r     0.8667    0.0650    0.1209       200\n",
      "\n",
      "    accuracy                         0.7656     22544\n",
      "   macro avg     0.8588    0.5146    0.5382     22544\n",
      "weighted avg     0.8201    0.7656    0.7338     22544\n",
      "\n",
      "[[[22544     0]\n",
      "  [    0     0]]\n",
      "\n",
      " [[14675   233]\n",
      "  [ 1601  6035]]\n",
      "\n",
      " [[19805   316]\n",
      "  [  846  1577]]\n",
      "\n",
      " [[19961     9]\n",
      "  [ 2313   261]]\n",
      "\n",
      " [[22342     2]\n",
      "  [  187    13]]]\n"
     ]
    },
    {
     "data": {
      "image/png": "[encoded data removed]",
      "text/plain": [
       "<Figure size 432x288 with 2 Axes>"
      ]
     },
     "metadata": {
      "needs_background": "light"
     },
     "output_type": "display_data"
    },
    {
     "name": "stdout",
     "output_type": "stream",
     "text": [
      "Accuracy Score: 0.7656139105748758\n",
      "Precision Score: 0.8201391281631827\n",
      "Recall Score: 0.7656139105748758\n",
      "F1 Score: 0.7338016885084695\n",
      "Total Duration: 271.1229956150055 Seconds\n"
     ]
    }
   ],
   "source": [
    "##SVM-SVC Model\n",
    "start=time.time()\n",
    "\n",
    "from sklearn.svm import SVC \n",
    "\n",
    "#fitting data\n",
    "clf = SVC(kernel='rbf',C=20, gamma='auto',random_state=1)\n",
    "\n",
    "#Predicting model\n",
    "pred_y = clf.fit(train_x,train_Y).predict(test_x)\n",
    "clf.fit(train_x,train_Y)\n",
    "\n",
    "\n",
    "conf_mx=confusion_matrix(test_Y, pred_y)\n",
    "print(conf_mx)\n",
    "\n",
    "#Performance Measures\n",
    "FP = conf_mx.sum(axis=0) - np.diag(conf_mx) \n",
    "FN = conf_mx.sum(axis=1) - np.diag(conf_mx)\n",
    "TP = np.diag(conf_mx)\n",
    "TN = conf_mx.sum() - (FP + FN + TP)\n",
    "FP = FP.astype(float)\n",
    "FN = FN.astype(float)\n",
    "TP = TP.astype(float)\n",
    "TN = TN.astype(float)\n",
    "\n",
    "#Accuracy for each class\n",
    "ACC = (TP+TN)/(TP+FP+FN+TN)\n",
    "print('Accuracy for each class: ',ACC)\n",
    "\n",
    "#Recall\n",
    "TPR = TP/(TP+FN)\n",
    "print('Recall for each class: ',TPR)\n",
    "\n",
    "# Precision \n",
    "PPV = TP/(TP+FP)\n",
    "print('Precision for each class: ',PPV)\n",
    "\n",
    "# False positive rate\n",
    "FPR = FP/(FP+TN)\n",
    "print('False Postive Rate for each class:',FPR)\n",
    "\n",
    "#Classification Report\n",
    "target_names = [\"normal\",\"dos\",\"probe\",\"r2l\",\"u2r\"]\n",
    "print(classification_report(test_Y, pred_y,target_names=target_names,digits=4))\n",
    "\n",
    "#Multilabel confusion Matrix\n",
    "print(multilabel_confusion_matrix(test_Y, pred_y,labels=target_names))\n",
    "\n",
    "#Plot Confusion Matrix\n",
    "plot_confusion_matrix(clf, test_x, test_Y)  \n",
    "plt.show()  \n",
    "\n",
    "#Overall Performance Measures for Algorithm\n",
    "print('Accuracy Score:',accuracy_score(pred_y, test_Y))\n",
    "print('Precision Score:',precision_score(test_Y,pred_y,average='weighted'))\n",
    "print('Recall Score:',recall_score(test_Y,pred_y,average='weighted'))\n",
    "print('F1 Score:', f1_score(test_Y,pred_y,average='weighted'))\n",
    "\n",
    "\n",
    "end=time.time()\n",
    "process_time = end-start\n",
    "print('Total Duration:',process_time,'Seconds')"
   ]
  },
  {
   "cell_type": "code",
   "execution_count": 22,
   "metadata": {},
   "outputs": [
    {
     "name": "stdout",
     "output_type": "stream",
     "text": [
      "[[9448   61  202    0    0]\n",
      " [1354 6190   92    0    0]\n",
      " [ 864  197 1362    0    0]\n",
      " [2186    1  387    0    0]\n",
      " [ 178   13    9    0    0]]\n",
      "Accuracy for each class:  [0.78508694 0.92379347 0.92232967 0.88582328 0.99112846]\n",
      "Recall for each class:  [0.97291731 0.81063384 0.56211308 0.         0.        ]\n",
      "Precision for each class:  [0.67341411 0.95790777 0.66374269        nan        nan]\n",
      "False Postive Rate for each class: [0.35704824 0.01824524 0.03429253 0.         0.        ]\n",
      "              precision    recall  f1-score   support\n",
      "\n",
      "      normal     0.6734    0.9729    0.7959      9711\n",
      "         dos     0.9579    0.8106    0.8781      7636\n",
      "       probe     0.6637    0.5621    0.6087      2423\n",
      "         r2l     0.0000    0.0000    0.0000      2574\n",
      "         u2r     0.0000    0.0000    0.0000       200\n",
      "\n",
      "    accuracy                         0.7541     22544\n",
      "   macro avg     0.4590    0.4691    0.4566     22544\n",
      "weighted avg     0.6859    0.7541    0.7057     22544\n",
      "\n",
      "[[[22544     0]\n",
      "  [    0     0]]\n",
      "\n",
      " [[14636   272]\n",
      "  [ 1446  6190]]\n",
      "\n",
      " [[19431   690]\n",
      "  [ 1061  1362]]\n",
      "\n",
      " [[19970     0]\n",
      "  [ 2574     0]]\n",
      "\n",
      " [[22344     0]\n",
      "  [  200     0]]]\n"
     ]
    },
    {
     "data": {
      "image/png": "[encoded data removed]",
      "text/plain": [
       "<Figure size 432x288 with 2 Axes>"
      ]
     },
     "metadata": {
      "needs_background": "light"
     },
     "output_type": "display_data"
    },
    {
     "name": "stdout",
     "output_type": "stream",
     "text": [
      "Accuracy Score: 0.7540809084457062\n",
      "Precision Score: 0.6858745877321867\n",
      "Recall Score: 0.7540809084457062\n",
      "F1 Score: 0.7057127880694016\n",
      "Total Duration: 51.230877161026 Seconds\n"
     ]
    }
   ],
   "source": [
    "#6.3 Neural Network - MLPClassifier\n",
    "start=time.time()\n",
    "from sklearn.neural_network import MLPClassifier\n",
    "\n",
    "\n",
    "#fitting data\n",
    "#clf = MLPClassifier(solver='lbfgs', alpha=1e-5, \n",
    "                    #hidden_layer_sizes=(5, 2),random_state=1)\n",
    "\n",
    "                              \n",
    "clf=MLPClassifier(hidden_layer_sizes=(5,2), activation='relu', solver='lbfgs',alpha=0.0001,\n",
    "                  batch_size='auto', learning_rate='constant', \n",
    "                  learning_rate_init=0.001,  max_iter=100,\n",
    "                  shuffle=True, random_state=None)\n",
    "#Predicting model\n",
    "pred_y = clf.fit(train_x,train_Y).predict(test_x)\n",
    "\n",
    "\n",
    "conf_mx=confusion_matrix(test_Y, pred_y)\n",
    "print(conf_mx)\n",
    "\n",
    "#Performance Measures\n",
    "FP = conf_mx.sum(axis=0) - np.diag(conf_mx) \n",
    "FN = conf_mx.sum(axis=1) - np.diag(conf_mx)\n",
    "TP = np.diag(conf_mx)\n",
    "TN = conf_mx.sum() - (FP + FN + TP)\n",
    "FP = FP.astype(float)\n",
    "FN = FN.astype(float)\n",
    "TP = TP.astype(float)\n",
    "TN = TN.astype(float)\n",
    "\n",
    "#Accuracy for each class\n",
    "ACC = (TP+TN)/(TP+FP+FN+TN)\n",
    "print('Accuracy for each class: ',ACC)\n",
    "\n",
    "#Recall\n",
    "TPR = TP/(TP+FN)\n",
    "print('Recall for each class: ',TPR)\n",
    "\n",
    "# Precision \n",
    "PPV = TP/(TP+FP)\n",
    "print('Precision for each class: ',PPV)\n",
    "\n",
    "# False positive rate\n",
    "FPR = FP/(FP+TN)\n",
    "print('False Postive Rate for each class:',FPR)\n",
    "\n",
    "#Classification Report\n",
    "target_names = [\"normal\",\"dos\",\"probe\",\"r2l\",\"u2r\"]\n",
    "print(classification_report(test_Y, pred_y,target_names=target_names,digits=4))\n",
    "\n",
    "#Multilabel confusion Matrix\n",
    "print(multilabel_confusion_matrix(test_Y, pred_y,labels=target_names))\n",
    "\n",
    "#Plot Confusion Matrix\n",
    "plot_confusion_matrix(clf, test_x, test_Y)  \n",
    "plt.show()  \n",
    "\n",
    "#Overall Performance Measures for Algorithm\n",
    "print('Accuracy Score:',accuracy_score(pred_y, test_Y))\n",
    "print('Precision Score:',precision_score(test_Y,pred_y,average='weighted'))\n",
    "print('Recall Score:',recall_score(test_Y,pred_y,average='weighted'))\n",
    "print('F1 Score:', f1_score(test_Y,pred_y,average='weighted'))\n",
    "\n",
    "\n",
    "end=time.time()\n",
    "process_time = end-start\n",
    "print('Total Duration:',process_time,'Seconds')"
   ]
  },
  {
   "cell_type": "code",
   "execution_count": 23,
   "metadata": {},
   "outputs": [
    {
     "name": "stdout",
     "output_type": "stream",
     "text": [
      "{'n_estimators': [10, 100, 200], 'max_features': ['auto', 'sqrt', 'log2'], 'max_depth': [10, 10, 10], 'min_samples_split': [2, 4, 6, 8, 10], 'min_samples_leaf': [1, 2, 3], 'criterion': ['entropy', 'gini']}\n",
      "Fitting 3 folds for each of 100 candidates, totalling 300 fits\n"
     ]
    },
    {
     "name": "stderr",
     "output_type": "stream",
     "text": [
      "[Parallel(n_jobs=-1)]: Using backend LokyBackend with 4 concurrent workers.\n",
      "[Parallel(n_jobs=-1)]: Done  33 tasks      | elapsed:  4.4min\n",
      "[Parallel(n_jobs=-1)]: Done 154 tasks      | elapsed: 18.0min\n",
      "[Parallel(n_jobs=-1)]: Done 300 out of 300 | elapsed: 29.5min finished\n"
     ]
    },
    {
     "name": "stdout",
     "output_type": "stream",
     "text": [
      "{'n_estimators': 200, 'min_samples_split': 10, 'min_samples_leaf': 1, 'max_features': 'sqrt', 'max_depth': 10, 'criterion': 'entropy'}\n",
      "RandomizedSearchCV(cv=3, estimator=RandomForestClassifier(), n_iter=100,\n",
      "                   n_jobs=-1,\n",
      "                   param_distributions={'criterion': ['entropy', 'gini'],\n",
      "                                        'max_depth': [10, 10, 10],\n",
      "                                        'max_features': ['auto', 'sqrt',\n",
      "                                                         'log2'],\n",
      "                                        'min_samples_leaf': [1, 2, 3],\n",
      "                                        'min_samples_split': [2, 4, 6, 8, 10],\n",
      "                                        'n_estimators': [10, 100, 200]},\n",
      "                   random_state=1, verbose=2)\n",
      "[[9458   67  186    0    0]\n",
      " [1898 5673   65    0    0]\n",
      " [ 829  163 1431    0    0]\n",
      " [2571    0    0    3    0]\n",
      " [ 194    0    5    0    1]]\n",
      "Accuracy for each class:  [0.74516501 0.90272356 0.94464159 0.88595635 0.99117282]\n",
      "Recall for each class:  [0.97394707 0.74292823 0.59059018 0.0011655  0.005     ]\n",
      "Precision for each class:  [0.63264214 0.96103676 0.84825133 1.         1.        ]\n",
      "False Postive Rate for each class: [0.42795917 0.01542796 0.01272303 0.         0.        ]\n",
      "              precision    recall  f1-score   support\n",
      "\n",
      "      normal     0.6326    0.9739    0.7670      9711\n",
      "         dos     0.9610    0.7429    0.8380      7636\n",
      "       probe     0.8483    0.5906    0.6964      2423\n",
      "         r2l     1.0000    0.0012    0.0023      2574\n",
      "         u2r     1.0000    0.0050    0.0100       200\n",
      "\n",
      "    accuracy                         0.7348     22544\n",
      "   macro avg     0.8884    0.4627    0.4627     22544\n",
      "weighted avg     0.8123    0.7348    0.6895     22544\n",
      "\n",
      "[[[22544     0]\n",
      "  [    0     0]]\n",
      "\n",
      " [[14678   230]\n",
      "  [ 1963  5673]]\n",
      "\n",
      " [[19865   256]\n",
      "  [  992  1431]]\n",
      "\n",
      " [[19970     0]\n",
      "  [ 2571     3]]\n",
      "\n",
      " [[22344     0]\n",
      "  [  199     1]]]\n"
     ]
    },
    {
     "data": {
      "image/png": "[encoded data removed]",
      "text/plain": [
       "<Figure size 432x288 with 2 Axes>"
      ]
     },
     "metadata": {
      "needs_background": "light"
     },
     "output_type": "display_data"
    },
    {
     "name": "stdout",
     "output_type": "stream",
     "text": [
      "Accuracy Score: 0.7348296664300923\n",
      "Precision Score: 0.8122505994708311\n",
      "Recall Score: 0.7348296664300923\n",
      "F1 Score: 0.6894572059116927\n",
      "Total Duration: 1867.4451248645782 Seconds\n"
     ]
    }
   ],
   "source": [
    "#RandomForest Classifier using RandomizedSearchCV \n",
    "start=time.time()\n",
    "from sklearn.ensemble import RandomForestClassifier\n",
    "from sklearn.model_selection import RandomizedSearchCV\n",
    "\n",
    "# Number of trees in random forest\n",
    "n_est = [10,100,200]\n",
    "# Number of features to consider at every split\n",
    "max_fe = ['auto', 'sqrt','log2']\n",
    "# Maximum number of levels in tree\n",
    "max_dep = [10, 10, 10]\n",
    "#Minimum number of samples required to split a node\n",
    "min_split = [2, 4, 6, 8, 10]\n",
    "# Minimum number of samples required at each leaf node\n",
    "min_leaf = [1, 2, 3]\n",
    "#Create the random grid\n",
    "random_forest = {'n_estimators': n_est,\n",
    "                  'max_features': max_fe,\n",
    "                   'max_depth': max_dep,\n",
    "                   'min_samples_split': min_split,\n",
    "                   'min_samples_leaf': min_leaf,\n",
    "                  'criterion':['entropy','gini']}\n",
    "print(random_forest)\n",
    "\n",
    "\n",
    "rfc=RandomForestClassifier()\n",
    "randomcv=RandomizedSearchCV(estimator=rfc ,param_distributions=random_forest,\n",
    "                               cv=3,n_iter=100,verbose=2,\n",
    "                               random_state=1,n_jobs=-1)\n",
    "### fit the randomized model\n",
    "randomcv.fit(train_x,train_Y)\n",
    "\n",
    "print(randomcv.best_params_)\n",
    "\n",
    "print(randomcv)\n",
    "\n",
    "best_random_forest=randomcv.best_estimator_\n",
    "pred_y=best_random_forest.predict(test_x)\n",
    "\n",
    "\n",
    "conf_mx=confusion_matrix(test_Y, pred_y)\n",
    "print(conf_mx)\n",
    "\n",
    "#Performance Measures\n",
    "FP = conf_mx.sum(axis=0) - np.diag(conf_mx) \n",
    "FN = conf_mx.sum(axis=1) - np.diag(conf_mx)\n",
    "TP = np.diag(conf_mx)\n",
    "TN = conf_mx.sum() - (FP + FN + TP)\n",
    "FP = FP.astype(float)\n",
    "FN = FN.astype(float)\n",
    "TP = TP.astype(float)\n",
    "TN = TN.astype(float)\n",
    "\n",
    "#Accuracy for each class\n",
    "ACC = (TP+TN)/(TP+FP+FN+TN)\n",
    "print('Accuracy for each class: ',ACC)\n",
    "\n",
    "#Recall\n",
    "TPR = TP/(TP+FN)\n",
    "print('Recall for each class: ',TPR)\n",
    "\n",
    "# Precision \n",
    "PPV = TP/(TP+FP)\n",
    "print('Precision for each class: ',PPV)\n",
    "\n",
    "# False positive rate\n",
    "FPR = FP/(FP+TN)\n",
    "print('False Postive Rate for each class:',FPR)\n",
    "\n",
    "#Classification Report\n",
    "target_names = [\"normal\",\"dos\",\"probe\",\"r2l\",\"u2r\"]\n",
    "print(classification_report(test_Y, pred_y,target_names=target_names,digits=4))\n",
    "\n",
    "#Multilabel confusion Matrix\n",
    "print(multilabel_confusion_matrix(test_Y, pred_y,labels=target_names))\n",
    "\n",
    "#Plot Confusion Matrix\n",
    "plot_confusion_matrix(randomcv, test_x, test_Y)\n",
    "plt.show()  \n",
    "\n",
    "#Overall Performance Measures for Algorithm\n",
    "print('Accuracy Score:',accuracy_score(pred_y, test_Y))\n",
    "print('Precision Score:',precision_score(test_Y,pred_y,average='weighted'))\n",
    "print('Recall Score:',recall_score(test_Y,pred_y,average='weighted'))\n",
    "print('F1 Score:', f1_score(test_Y,pred_y,average='weighted'))\n",
    "\n",
    "\n",
    "end=time.time()\n",
    "process_time = end-start\n",
    "print('Total Duration:',process_time,'Seconds')"
   ]
  },
  {
   "cell_type": "code",
   "execution_count": 28,
   "metadata": {},
   "outputs": [
    {
     "name": "stdout",
     "output_type": "stream",
     "text": [
      "Fitting 3 folds for each of 100 candidates, totalling 300 fits\n"
     ]
    },
    {
     "name": "stderr",
     "output_type": "stream",
     "text": [
      "[Parallel(n_jobs=-1)]: Using backend LokyBackend with 4 concurrent workers.\n",
      "[Parallel(n_jobs=-1)]: Done  33 tasks      | elapsed:  3.5min\n",
      "[Parallel(n_jobs=-1)]: Done 154 tasks      | elapsed: 16.5min\n",
      "[Parallel(n_jobs=-1)]: Done 300 out of 300 | elapsed: 28.6min finished\n"
     ]
    },
    {
     "name": "stdout",
     "output_type": "stream",
     "text": [
      "{'n_estimators': 10, 'min_samples_split': 4, 'min_samples_leaf': 1, 'max_features': 'auto', 'max_depth': 10, 'criterion': 'entropy'}\n",
      "RandomizedSearchCV(cv=3, estimator=ExtraTreesClassifier(), n_iter=100,\n",
      "                   n_jobs=-1,\n",
      "                   param_distributions={'criterion': ['entropy', 'gini'],\n",
      "                                        'max_depth': [10, 10, 10],\n",
      "                                        'max_features': ['auto', 'sqrt',\n",
      "                                                         'log2'],\n",
      "                                        'min_samples_leaf': [1, 2, 3],\n",
      "                                        'min_samples_split': [2, 4, 6, 8, 10],\n",
      "                                        'n_estimators': [10, 100, 200]},\n",
      "                   random_state=1, verbose=2)\n",
      "[[9456   61  194    0    0]\n",
      " [1984 5579   73    0    0]\n",
      " [ 571  221 1631    0    0]\n",
      " [2562    0   12    0    0]\n",
      " [ 122    0   78    0    0]]\n",
      "Accuracy for each class:  [0.75629879 0.89624734 0.949033   0.88582328 0.99112846]\n",
      "Recall for each class:  [0.97374112 0.73061812 0.67313248 0.         0.        ]\n",
      "Precision for each class:  [0.64348418 0.95188534 0.82042254        nan        nan]\n",
      "False Postive Rate for each class: [0.40824437 0.01891602 0.01774266 0.         0.        ]\n",
      "              precision    recall  f1-score   support\n",
      "\n",
      "      normal     0.6435    0.9737    0.7749      9711\n",
      "         dos     0.9519    0.7306    0.8267      7636\n",
      "       probe     0.8204    0.6731    0.7395      2423\n",
      "         r2l     0.0000    0.0000    0.0000      2574\n",
      "         u2r     0.0000    0.0000    0.0000       200\n",
      "\n",
      "    accuracy                         0.7393     22544\n",
      "   macro avg     0.4832    0.4755    0.4682     22544\n",
      "weighted avg     0.6878    0.7393    0.6933     22544\n",
      "\n",
      "[[[22544     0]\n",
      "  [    0     0]]\n",
      "\n",
      " [[14626   282]\n",
      "  [ 2057  5579]]\n",
      "\n",
      " [[19764   357]\n",
      "  [  792  1631]]\n",
      "\n",
      " [[19970     0]\n",
      "  [ 2574     0]]\n",
      "\n",
      " [[22344     0]\n",
      "  [  200     0]]]\n"
     ]
    },
    {
     "data": {
      "image/png": "[encoded data removed]",
      "text/plain": [
       "<Figure size 432x288 with 2 Axes>"
      ]
     },
     "metadata": {
      "needs_background": "light"
     },
     "output_type": "display_data"
    },
    {
     "name": "stdout",
     "output_type": "stream",
     "text": [
      "Accuracy Score: 0.7392654364797729\n",
      "Precision Score: 0.6877818995498278\n",
      "Recall Score: 0.7392654364797729\n",
      "F1 Score: 0.6932892694264822\n",
      "Total Duration: 1797.3299107551575 Seconds\n"
     ]
    }
   ],
   "source": [
    "#ExtratreesClassifier\n",
    "start=time.time()\n",
    "\n",
    "from sklearn.ensemble import ExtraTreesClassifier\n",
    "\n",
    "etc=ExtraTreesClassifier(n_estimators=100,criterion='gini',\n",
    "                             max_features='auto',min_samples_leaf=1,random_state=0,min_samples_split=2)\n",
    "\n",
    "pred_y = etc.fit(train_x,train_Y).predict(test_x)\n",
    "\n",
    "randomcv.fit(train_x,train_Y)\n",
    "\n",
    "print(randomcv.best_params_)\n",
    "\n",
    "print(randomcv)\n",
    "\n",
    "best_random_forest=randomcv.best_estimator_\n",
    "pred_y=best_random_forest.predict(test_x)\n",
    "\n",
    "\n",
    "conf_mx=confusion_matrix(test_Y, pred_y)\n",
    "print(conf_mx)\n",
    "\n",
    "#Performance Measures\n",
    "FP = conf_mx.sum(axis=0) - np.diag(conf_mx) \n",
    "FN = conf_mx.sum(axis=1) - np.diag(conf_mx)\n",
    "TP = np.diag(conf_mx)\n",
    "TN = conf_mx.sum() - (FP + FN + TP)\n",
    "FP = FP.astype(float)\n",
    "FN = FN.astype(float)\n",
    "TP = TP.astype(float)\n",
    "TN = TN.astype(float)\n",
    "\n",
    "#Accuracy for each class\n",
    "ACC = (TP+TN)/(TP+FP+FN+TN)\n",
    "print('Accuracy for each class: ',ACC)\n",
    "\n",
    "#Recall\n",
    "TPR = TP/(TP+FN)\n",
    "print('Recall for each class: ',TPR)\n",
    "\n",
    "# Precision \n",
    "PPV = TP/(TP+FP)\n",
    "print('Precision for each class: ',PPV)\n",
    "\n",
    "# False positive rate\n",
    "FPR = FP/(FP+TN)\n",
    "print('False Postive Rate for each class:',FPR)\n",
    "\n",
    "#Classification Report\n",
    "target_names = [\"normal\",\"dos\",\"probe\",\"r2l\",\"u2r\"]\n",
    "print(classification_report(test_Y, pred_y,target_names=target_names,digits=4))\n",
    "\n",
    "#Multilabel confusion Matrix\n",
    "print(multilabel_confusion_matrix(test_Y, pred_y,labels=target_names))\n",
    "\n",
    "#Plot Confusion Matrix\n",
    "plot_confusion_matrix(etc, test_x, test_Y)\n",
    "plt.show()  \n",
    "\n",
    "#Overall Performance Measures for Algorithm\n",
    "print('Accuracy Score:',accuracy_score(pred_y, test_Y))\n",
    "print('Precision Score:',precision_score(test_Y,pred_y,average='weighted'))\n",
    "print('Recall Score:',recall_score(test_Y,pred_y,average='weighted'))\n",
    "print('F1 Score:', f1_score(test_Y,pred_y,average='weighted'))\n",
    "\n",
    "\n",
    "end=time.time()\n",
    "process_time = end-start\n",
    "print('Total Duration:',process_time,'Seconds')"
   ]
  },
  {
   "cell_type": "code",
   "execution_count": 29,
   "metadata": {},
   "outputs": [
    {
     "data": {
      "text/plain": [
       "Text(0.5, 1.0, 'Algorithm Accuracy Bar chart')"
      ]
     },
     "execution_count": 29,
     "metadata": {},
     "output_type": "execute_result"
    },
    {
     "data": {
      "image/png": "[encoded data removed]",
      "text/plain": [
       "<Figure size 432x288 with 1 Axes>"
      ]
     },
     "metadata": {
      "needs_background": "light"
     },
     "output_type": "display_data"
    }
   ],
   "source": [
    "#Bar Chart\n",
    "algorithms=['LR','SVM-SVC','NN','RF','ExtraTree']\n",
    "accuracy=[0.7506, 0.7656,0.7541,0.7348,0.7393]\n",
    "\n",
    "ypos=np.arange(len(algorithms))\n",
    "plt.xticks(ypos,algorithms)\n",
    "plt.bar(ypos,accuracy,label='Accuracy')\n",
    "plt.xlabel('Algorithms')\n",
    "plt.ylabel('Accuracy')\n",
    "plt.title('Algorithm Accuracy Bar chart')"
   ]
  },
  {
   "cell_type": "code",
   "execution_count": 30,
   "metadata": {},
   "outputs": [
    {
     "data": {
      "text/plain": [
       "Text(0.5, 1.0, 'Precision Bar chart')"
      ]
     },
     "execution_count": 30,
     "metadata": {},
     "output_type": "execute_result"
    },
    {
     "data": {
      "image/png": "[encoded data removed]",
      "text/plain": [
       "<Figure size 432x288 with 1 Axes>"
      ]
     },
     "metadata": {
      "needs_background": "light"
     },
     "output_type": "display_data"
    }
   ],
   "source": [
    "#Bar Chart\n",
    "algorithms=['LR','SVM-SVC','NN','RF','ExtraTree']\n",
    "precision=[0.7808, 0.8201,0.6859,0.8123,0.6878]\n",
    "\n",
    "ypos=np.arange(len(algorithms))\n",
    "plt.xticks(ypos,algorithms)\n",
    "plt.bar(ypos,precision,label='Precisions')\n",
    "plt.xlabel('Algorithms')\n",
    "plt.ylabel('Precisions')\n",
    "plt.title('Precision Bar chart')"
   ]
  },
  {
   "cell_type": "code",
   "execution_count": 31,
   "metadata": {},
   "outputs": [
    {
     "data": {
      "text/plain": [
       "Text(0.5, 1.0, 'Recall Bar chart')"
      ]
     },
     "execution_count": 31,
     "metadata": {},
     "output_type": "execute_result"
    },
    {
     "data": {
      "image/png": "[encoded data removed]",
      "text/plain": [
       "<Figure size 432x288 with 1 Axes>"
      ]
     },
     "metadata": {
      "needs_background": "light"
     },
     "output_type": "display_data"
    }
   ],
   "source": [
    "#Bar Chart\n",
    "algorithms=['LR','SVM-SVC','NN','RF','ExtraTree']\n",
    "recall=[0.7506, 0.7656,0.7541,0.7348,0.7393]\n",
    "\n",
    "ypos=np.arange(len(algorithms))\n",
    "plt.xticks(ypos,algorithms)\n",
    "plt.bar(ypos,recall,label='Recall')\n",
    "plt.xlabel('Algorithms')\n",
    "plt.ylabel('Recall')\n",
    "plt.title('Recall Bar chart')"
   ]
  },
  {
   "cell_type": "code",
   "execution_count": 33,
   "metadata": {},
   "outputs": [
    {
     "data": {
      "text/plain": [
       "Text(0.5, 1.0, 'F1_score Bar chart')"
      ]
     },
     "execution_count": 33,
     "metadata": {},
     "output_type": "execute_result"
    },
    {
     "data": {
      "image/png": "[encoded data removed]",
      "text/plain": [
       "<Figure size 432x288 with 1 Axes>"
      ]
     },
     "metadata": {
      "needs_background": "light"
     },
     "output_type": "display_data"
    }
   ],
   "source": [
    "#Bar Chart\n",
    "algorithms=['LR','SVM-SVC','NN','RF','ExtraTree']\n",
    "f1_score=[0.7103, 0.7338,0.7057,0.6895,0.6933]\n",
    "\n",
    "ypos=np.arange(len(algorithms))\n",
    "plt.xticks(ypos,algorithms)\n",
    "plt.bar(ypos,f1_score,label='F1_score')\n",
    "plt.xlabel('Algorithms')\n",
    "plt.ylabel('F1_score')\n",
    "plt.title('F1_score Bar chart')"
   ]
  },
  {
   "cell_type": "code",
   "execution_count": 34,
   "metadata": {},
   "outputs": [
    {
     "data": {
      "text/plain": [
       "Text(0.5, 1.0, 'Time taken for algorithms Bar chart')"
      ]
     },
     "execution_count": 34,
     "metadata": {},
     "output_type": "execute_result"
    },
    {
     "data": {
      "image/png": "[encoded data removed]",
      "text/plain": [
       "<Figure size 432x288 with 1 Axes>"
      ]
     },
     "metadata": {
      "needs_background": "light"
     },
     "output_type": "display_data"
    }
   ],
   "source": [
    "#Bar Chart\n",
    "algorithms=['LR','SVM-SVC','NN','RF','ExtraTree']\n",
    "time=[103.79, 271.12,51.23,1867.44,1797.33]\n",
    "\n",
    "ypos=np.arange(len(algorithms))\n",
    "plt.xticks(ypos,algorithms)\n",
    "plt.bar(ypos,time,label='Time')\n",
    "plt.xlabel('Algorithms')\n",
    "plt.ylabel('Time')\n",
    "plt.title('Time taken for algorithms Bar chart')"
   ]
  },
  {
   "cell_type": "code",
   "execution_count": null,
   "metadata": {},
   "outputs": [],
   "source": []
  }
 ],
 "metadata": {
  "kernelspec": {
   "display_name": "Python 3",
   "language": "python",
   "name": "python3"
  },
  "language_info": {
   "codemirror_mode": {
    "name": "ipython",
    "version": 3
   },
   "file_extension": ".py",
   "mimetype": "text/x-python",
   "name": "python",
   "nbconvert_exporter": "python",
   "pygments_lexer": "ipython3",
   "version": "3.8.3"
  }
 },
 "nbformat": 4,
 "nbformat_minor": 4
}
